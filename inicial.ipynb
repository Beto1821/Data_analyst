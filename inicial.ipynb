version https://git-lfs.github.com/spec/v1
oid sha256:92f90c5b59f40c638e76a2d21a82129eebbd8526570e31c6b052bdd1f5a30ffa
size 137110083
