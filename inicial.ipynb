version https://git-lfs.github.com/spec/v1
oid sha256:811ae7624f0ad8525c96c6fe5cd6c136c0f3bb8cfbe203bbaf0164521c7365bc
size 137111251
